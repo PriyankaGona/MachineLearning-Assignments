{
  "nbformat": 4,
  "nbformat_minor": 0,
  "metadata": {
    "colab": {
      "name": "hw1-problem4.ipynb",
      "version": "0.3.2",
      "provenance": [],
      "collapsed_sections": [],
      "include_colab_link": true
    },
    "kernelspec": {
      "name": "python3",
      "display_name": "Python 3"
    }
  },
  "cells": [
    {
      "cell_type": "markdown",
      "metadata": {
        "id": "view-in-github",
        "colab_type": "text"
      },
      "source": [
        "<a href=\"https://colab.research.google.com/github/PriyankaGona/MachineLearning-Assignments/blob/master/hw1_problem4.ipynb\" target=\"_parent\"><img src=\"https://colab.research.google.com/assets/colab-badge.svg\" alt=\"Open In Colab\"/></a>"
      ]
    },
    {
      "metadata": {
        "id": "OblfdlKiXwpG",
        "colab_type": "code",
        "colab": {
          "base_uri": "https://localhost:8080/",
          "height": 35
        },
        "outputId": "eefcc2a8-f52f-494c-fd8c-451cb0b381c4"
      },
      "cell_type": "code",
      "source": [
        "from keras.datasets import mnist\n",
        "from keras.models import Sequential\n",
        "from keras.layers.core import Dense\n",
        "from keras.optimizers import SGD    \n",
        "from keras.metrics import categorical_crossentropy\n",
        "from keras.utils import np_utils\n",
        "import matplotlib.pyplot as plt"
      ],
      "execution_count": 1,
      "outputs": [
        {
          "output_type": "stream",
          "text": [
            "Using TensorFlow backend.\n"
          ],
          "name": "stderr"
        }
      ]
    },
    {
      "metadata": {
        "id": "bdKh-slQYAS6",
        "colab_type": "code",
        "colab": {}
      },
      "cell_type": "code",
      "source": [
        "# variable initialization\n",
        "batch_size = 128\n",
        "nb_classes=10\n",
        "nb_epoch=20"
      ],
      "execution_count": 0,
      "outputs": []
    },
    {
      "metadata": {
        "id": "4o2RwdexYH4X",
        "colab_type": "code",
        "colab": {}
      },
      "cell_type": "code",
      "source": [
        "# loading mnist dataset using keras\n",
        "(x_train,y_train), (x_test,y_test) = mnist.load_data()\n",
        "\n",
        "# reshaping the image to 1-dimensional vector \n",
        "x_train=x_train.reshape(x_train.shape[0],x_train.shape[1]*x_train.shape[2])\n",
        "x_test=x_test.reshape(x_test.shape[0],x_test.shape[1]*x_test.shape[2])\n",
        "\n",
        "x_train=x_train.astype('float32')\n",
        "x_test=x_test.astype('float32')\n",
        "\n",
        "# normalization\n",
        "x_train /=255\n",
        "x_test /=255\n",
        "\n",
        "# converting y_traing shape from (60000,1) to (60000,10)\n",
        "y_train=np_utils.to_categorical(y_train,nb_classes)\n",
        "y_test=np_utils.to_categorical(y_test,nb_classes)"
      ],
      "execution_count": 0,
      "outputs": []
    },
    {
      "metadata": {
        "id": "qICP2D4UYIzi",
        "colab_type": "code",
        "outputId": "6bfedd7c-dce3-40f9-ae92-9d25f4b22377",
        "colab": {
          "base_uri": "https://localhost:8080/",
          "height": 852
        }
      },
      "cell_type": "code",
      "source": [
        "# model\n",
        "model = Sequential()\n",
        "model.add(Dense(784, activation='relu', input_shape=(28*28,)))\n",
        "model.add(Dense(10, activation='softmax'))\n",
        "\n",
        "\n",
        "# compiling model with sgd optimizer and categorical_crossentropy function\n",
        "sgd = SGD(lr=0.005)\n",
        "model.compile(loss='categorical_crossentropy', \n",
        "              optimizer=sgd, metrics=['accuracy'])\n",
        "\n",
        "# training the model\n",
        "history = model.fit(x_train, y_train, batch_size=batch_size, epochs=nb_epoch, verbose=1, shuffle=True)\n",
        "\n",
        "# testing the model\n",
        "score = model.evaluate(x_test, y_test, verbose=0)\n",
        "\n",
        "accuracy = 100*score[1]\n",
        "\n",
        "print('Test accuracy: %.4f%%' % accuracy)"
      ],
      "execution_count": 4,
      "outputs": [
        {
          "output_type": "stream",
          "text": [
            "WARNING:tensorflow:From /usr/local/lib/python3.6/dist-packages/tensorflow/python/framework/op_def_library.py:263: colocate_with (from tensorflow.python.framework.ops) is deprecated and will be removed in a future version.\n",
            "Instructions for updating:\n",
            "Colocations handled automatically by placer.\n",
            "WARNING:tensorflow:From /usr/local/lib/python3.6/dist-packages/tensorflow/python/ops/math_ops.py:3066: to_int32 (from tensorflow.python.ops.math_ops) is deprecated and will be removed in a future version.\n",
            "Instructions for updating:\n",
            "Use tf.cast instead.\n",
            "Epoch 1/20\n",
            "60000/60000 [==============================] - 6s 96us/step - loss: 1.4452 - acc: 0.6719\n",
            "Epoch 2/20\n",
            "60000/60000 [==============================] - 5s 85us/step - loss: 0.7287 - acc: 0.8464\n",
            "Epoch 3/20\n",
            "60000/60000 [==============================] - 5s 85us/step - loss: 0.5482 - acc: 0.8707\n",
            "Epoch 4/20\n",
            "60000/60000 [==============================] - 5s 88us/step - loss: 0.4692 - acc: 0.8825\n",
            "Epoch 5/20\n",
            "60000/60000 [==============================] - 5s 90us/step - loss: 0.4241 - acc: 0.8909\n",
            "Epoch 6/20\n",
            "60000/60000 [==============================] - 5s 87us/step - loss: 0.3941 - acc: 0.8968\n",
            "Epoch 7/20\n",
            "60000/60000 [==============================] - 5s 85us/step - loss: 0.3723 - acc: 0.9009\n",
            "Epoch 8/20\n",
            "60000/60000 [==============================] - 5s 85us/step - loss: 0.3554 - acc: 0.9043\n",
            "Epoch 9/20\n",
            "60000/60000 [==============================] - 5s 84us/step - loss: 0.3418 - acc: 0.9065\n",
            "Epoch 10/20\n",
            "60000/60000 [==============================] - 5s 83us/step - loss: 0.3304 - acc: 0.9096\n",
            "Epoch 11/20\n",
            "60000/60000 [==============================] - 5s 83us/step - loss: 0.3205 - acc: 0.9123\n",
            "Epoch 12/20\n",
            "60000/60000 [==============================] - 5s 82us/step - loss: 0.3118 - acc: 0.9142\n",
            "Epoch 13/20\n",
            "60000/60000 [==============================] - 5s 83us/step - loss: 0.3041 - acc: 0.9166\n",
            "Epoch 14/20\n",
            "60000/60000 [==============================] - 5s 84us/step - loss: 0.2971 - acc: 0.9182\n",
            "Epoch 15/20\n",
            "60000/60000 [==============================] - 5s 87us/step - loss: 0.2907 - acc: 0.9202\n",
            "Epoch 16/20\n",
            "60000/60000 [==============================] - 5s 89us/step - loss: 0.2848 - acc: 0.9214\n",
            "Epoch 17/20\n",
            "60000/60000 [==============================] - 5s 86us/step - loss: 0.2793 - acc: 0.9226\n",
            "Epoch 18/20\n",
            "60000/60000 [==============================] - 5s 85us/step - loss: 0.2742 - acc: 0.9244\n",
            "Epoch 19/20\n",
            "60000/60000 [==============================] - 5s 86us/step - loss: 0.2693 - acc: 0.9256\n",
            "Epoch 20/20\n",
            "60000/60000 [==============================] - 5s 86us/step - loss: 0.2647 - acc: 0.9269\n",
            "Test accuracy: 92.9600%\n"
          ],
          "name": "stdout"
        }
      ]
    },
    {
      "metadata": {
        "id": "paRy9cFiUt13",
        "colab_type": "code",
        "outputId": "9c368eb6-64d3-494f-9b1e-2f6af1326bd0",
        "colab": {
          "base_uri": "https://localhost:8080/",
          "height": 736
        }
      },
      "cell_type": "code",
      "source": [
        "# plotting accuracy values of model\n",
        "plt.plot(history.history['acc'])\n",
        "plt.title('model accuracy')\n",
        "plt.ylabel('accuracy')\n",
        "plt.xlabel('epoch')\n",
        "plt.legend(['train'], loc='upper left')\n",
        "plt.show()\n",
        "\n",
        "# plotting loss values of model\n",
        "plt.plot(history.history['loss'])\n",
        "plt.title('model loss')\n",
        "plt.ylabel('loss')\n",
        "plt.xlabel('epoch')\n",
        "plt.legend(['train', 'test'], loc='upper left')\n",
        "plt.show()"
      ],
      "execution_count": 5,
      "outputs": [
        {
          "output_type": "display_data",
          "data": {
            "image/png": "[encoded data removed]",
            "text/plain": [
              "<Figure size 576x396 with 1 Axes>"
            ]
          },
          "metadata": {
            "tags": []
          }
        },
        {
          "output_type": "display_data",
          "data": {
            "image/png": "[encoded data removed]",
            "text/plain": [
              "<Figure size 576x396 with 1 Axes>"
            ]
          },
          "metadata": {
            "tags": []
          }
        }
      ]
    },
    {
      "metadata": {
        "id": "uBK21gcUYRt-",
        "colab_type": "code",
        "colab": {}
      },
      "cell_type": "code",
      "source": [
        ""
      ],
      "execution_count": 0,
      "outputs": []
    }
  ]
}