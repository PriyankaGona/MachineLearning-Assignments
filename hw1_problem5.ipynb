{
  "nbformat": 4,
  "nbformat_minor": 0,
  "metadata": {
    "colab": {
      "name": "hw1_problem5.ipynb",
      "version": "0.3.2",
      "provenance": [],
      "collapsed_sections": [],
      "include_colab_link": true
    },
    "kernelspec": {
      "name": "python3",
      "display_name": "Python 3"
    }
  },
  "cells": [
    {
      "cell_type": "markdown",
      "metadata": {
        "id": "view-in-github",
        "colab_type": "text"
      },
      "source": [
        "<a href=\"https://colab.research.google.com/github/PriyankaGona/MachineLearning-Assignments/blob/master/hw1_problem5.ipynb\" target=\"_parent\"><img src=\"https://colab.research.google.com/assets/colab-badge.svg\" alt=\"Open In Colab\"/></a>"
      ]
    },
    {
      "metadata": {
        "id": "BZ6T8E47L9TA",
        "colab_type": "code",
        "outputId": "eb7fc1ec-4d2a-4957-ad17-f50e1d68fd33",
        "colab": {
          "base_uri": "https://localhost:8080/",
          "height": 34
        }
      },
      "cell_type": "code",
      "source": [
        "import numpy as np\n",
        "import time\n",
        "from keras.datasets import mnist\n",
        "from keras.models import Sequential\n",
        "from keras.layers import Dense, Input\n",
        "from keras.optimizers import SGD\n",
        "import keras.utils as np_utils"
      ],
      "execution_count": 0,
      "outputs": [
        {
          "output_type": "stream",
          "text": [
            "Using TensorFlow backend.\n"
          ],
          "name": "stderr"
        }
      ]
    },
    {
      "metadata": {
        "id": "H321mEb35eUP",
        "colab_type": "code",
        "colab": {}
      },
      "cell_type": "code",
      "source": [
        "# check adjacent regions\n",
        "def checkAdjacentVertices(vertices,visited_vertices,point,image):\n",
        "    (x,y) = point\n",
        "\n",
        "    if x > 0 and (x - 1, y) not in visited_vertices and image[x - 1][y] < 0.5:\n",
        "        vertices.append((x - 1, y))\n",
        "        visited_vertices.append((x - 1,y))\n",
        "\n",
        "    if x < 27 and (x + 1, y) not in visited_vertices and image[x + 1][y] < 0.5:\n",
        "        vertices.append((x + 1, y))\n",
        "        visited_vertices.append((x + 1,y))\n",
        "    \n",
        "    if y > 0 and (x, y - 1) not in visited_vertices and image[x][y - 1] < 0.5:\n",
        "        vertices.append((x, y - 1))\n",
        "        visited_vertices.append((x,y - 1))\n",
        "    \n",
        "    if y < 27 and (x, y + 1) not in visited_vertices and image[x][y + 1] < 0.5:\n",
        "        vertices.append((x, y + 1))\n",
        "        visited_vertices.append((x,y + 1))\n",
        "\n",
        "    return vertices, visited_vertices"
      ],
      "execution_count": 0,
      "outputs": []
    },
    {
      "metadata": {
        "id": "G4cA7cKxMizv",
        "colab_type": "code",
        "colab": {}
      },
      "cell_type": "code",
      "source": [
        "# function to find the number of white regions in a image\n",
        "def number_of_regions(image):\n",
        "  \n",
        "  vertices = []  \n",
        "  visited_vertices = []\n",
        "  \n",
        "  regions = 0\n",
        "  \n",
        "  for row in range(28):\n",
        "    for col in range(28):\n",
        "      \n",
        "      if (row,col) not in visited_vertices and image[row][col] < 0.5:\n",
        "        regions += 1\n",
        "        vertices.append((row,col))\n",
        "        visited_vertices.append((row,col))\n",
        "        \n",
        "\n",
        "        while len(vertices) > 0:\n",
        "          (x,y) = vertices.pop()\n",
        "          \n",
        "          vertices,visited_vertices = checkAdjacentVertices(vertices,visited_vertices,(x,y),image)\n",
        "  \n",
        "    return regions/3"
      ],
      "execution_count": 0,
      "outputs": []
    },
    {
      "metadata": {
        "id": "BGKfmeSyMkhd",
        "colab_type": "code",
        "colab": {}
      },
      "cell_type": "code",
      "source": [
        "# loading mnist dataset\n",
        "(x_train, y_train), (x_test, y_test) = mnist.load_data()\n",
        "\n",
        "x_train = x_train.astype('float32')\n",
        "x_test = x_test.astype('float32')\n",
        "\n",
        "# normalizing\n",
        "x_train /= 255\n",
        "x_test /= 255"
      ],
      "execution_count": 0,
      "outputs": []
    },
    {
      "metadata": {
        "id": "1qpYXoLOMtyZ",
        "colab_type": "code",
        "outputId": "16cd1347-c3b0-422c-cc68-0d32e76b1f48",
        "colab": {
          "base_uri": "https://localhost:8080/",
          "height": 34
        }
      },
      "cell_type": "code",
      "source": [
        "# vectors to hold new feature data\n",
        "new_feature_train = np.zeros(shape=(y_train.shape[0],1))\n",
        "new_feature_test = np.zeros(shape=(y_test.shape[0],1))\n",
        "\n",
        "# calculating number of white regions of each image and assiging it to the respective new feature vecors\n",
        "starttime= time.time()\n",
        "\n",
        "for i in range(y_train.shape[0]):\n",
        "    new_feature_train[i] = number_of_regions(x_train[i])\n",
        "\n",
        "for i in range(y_test.shape[0]):\n",
        "    new_feature_test[i] = number_of_regions(x_test[i])\n",
        "\n",
        "endtime = time.time()\n",
        "\n",
        "print(\"Time taken to find the number of white regions in both training and testing data : {} minutes\".format((endtime-starttime)/60))"
      ],
      "execution_count": 0,
      "outputs": [
        {
          "output_type": "stream",
          "text": [
            "Time taken to find the number of white regions in both training and testing data : 27.412844200929005 minutes\n"
          ],
          "name": "stdout"
        }
      ]
    },
    {
      "metadata": {
        "id": "9PNyDEnBMyLo",
        "colab_type": "code",
        "colab": {}
      },
      "cell_type": "code",
      "source": [
        "# reshape to 1-dimensional vector\n",
        "x_train = x_train.reshape(x_train.shape[0], x_train.shape[1]*x_train.shape[2])\n",
        "x_test = x_test.reshape(x_test.shape[0], x_test.shape[1]*x_test.shape[2])\n",
        "\n",
        "y_train = np_utils.to_categorical(y_train)\n",
        "y_test = np_utils.to_categorical(y_test)\n",
        "\n",
        "x_train_with_new_feature = np.append(x_train,new_feature_train,axis=1)\n",
        "x_test_with_new_feature = np.append(x_test,new_feature_test,axis=1)"
      ],
      "execution_count": 0,
      "outputs": []
    },
    {
      "metadata": {
        "id": "-ly9oG2TM1Td",
        "colab_type": "code",
        "outputId": "9ca951ad-7a81-48eb-cfab-dc313a3cffcb",
        "colab": {
          "base_uri": "https://localhost:8080/",
          "height": 510
        }
      },
      "cell_type": "code",
      "source": [
        "# model\n",
        "model = Sequential()\n",
        "model.add(Dense(785, activation='relu', input_shape=(785,)))\n",
        "model.add(Dense(10, activation='softmax'))\n",
        "\n",
        "# compiling model with sgd optimizer and categorical_crossentropy function\n",
        "sgd = SGD(lr=0.005)\n",
        "model.compile(optimizer=sgd ,loss='categorical_crossentropy',metrics=['accuracy'])\n",
        "\n",
        "# training the model\n",
        "history = model.fit(x_train_with_new_feature, y_train, epochs=10, batch_size=100, verbose=1, shuffle=True)\n",
        "\n",
        "# testing the model\n",
        "score = model.evaluate(x_test_with_new_feature, y_test, verbose=0)\n",
        "\n",
        "accuracy = 100*score[1]\n",
        "print('\\n\\nTest accuracy: %.4f%%' % accuracy)"
      ],
      "execution_count": 0,
      "outputs": [
        {
          "output_type": "stream",
          "text": [
            "WARNING:tensorflow:From /usr/local/lib/python3.6/dist-packages/tensorflow/python/framework/op_def_library.py:263: colocate_with (from tensorflow.python.framework.ops) is deprecated and will be removed in a future version.\n",
            "Instructions for updating:\n",
            "Colocations handled automatically by placer.\n",
            "WARNING:tensorflow:From /usr/local/lib/python3.6/dist-packages/tensorflow/python/ops/math_ops.py:3066: to_int32 (from tensorflow.python.ops.math_ops) is deprecated and will be removed in a future version.\n",
            "Instructions for updating:\n",
            "Use tf.cast instead.\n",
            "Epoch 1/10\n",
            "60000/60000 [==============================] - 7s 109us/step - loss: 1.2952 - acc: 0.7257\n",
            "Epoch 2/10\n",
            "60000/60000 [==============================] - 6s 106us/step - loss: 0.6383 - acc: 0.8576\n",
            "Epoch 3/10\n",
            "60000/60000 [==============================] - 6s 104us/step - loss: 0.4946 - acc: 0.8787\n",
            "Epoch 4/10\n",
            "60000/60000 [==============================] - 6s 105us/step - loss: 0.4310 - acc: 0.8893\n",
            "Epoch 5/10\n",
            "60000/60000 [==============================] - 6s 105us/step - loss: 0.3935 - acc: 0.8968\n",
            "Epoch 6/10\n",
            "60000/60000 [==============================] - 6s 106us/step - loss: 0.3681 - acc: 0.9011\n",
            "Epoch 7/10\n",
            "60000/60000 [==============================] - 6s 106us/step - loss: 0.3490 - acc: 0.9055\n",
            "Epoch 8/10\n",
            "60000/60000 [==============================] - 6s 105us/step - loss: 0.3339 - acc: 0.9084\n",
            "Epoch 9/10\n",
            "60000/60000 [==============================] - 6s 104us/step - loss: 0.3215 - acc: 0.9117\n",
            "Epoch 10/10\n",
            "60000/60000 [==============================] - 6s 105us/step - loss: 0.3109 - acc: 0.9142\n",
            "\n",
            "\n",
            "Test accuracy: 91.9000%\n"
          ],
          "name": "stdout"
        }
      ]
    }
  ]
}