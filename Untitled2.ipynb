{
  "nbformat": 4,
  "nbformat_minor": 0,
  "metadata": {
    "colab": {
      "name": "Untitled2.ipynb",
      "version": "0.3.2",
      "provenance": [],
      "include_colab_link": true
    },
    "kernelspec": {
      "name": "python3",
      "display_name": "Python 3"
    }
  },
  "cells": [
    {
      "cell_type": "markdown",
      "metadata": {
        "id": "view-in-github",
        "colab_type": "text"
      },
      "source": [
        "<a href=\"https://colab.research.google.com/github/PriyankaGona/machinelearning-assignments/blob/master/Untitled2.ipynb\" target=\"_parent\"><img src=\"https://colab.research.google.com/assets/colab-badge.svg\" alt=\"Open In Colab\"/></a>"
      ]
    },
    {
      "metadata": {
        "id": "3BKVo1_nJQ9P",
        "colab_type": "code",
        "colab": {
          "base_uri": "https://localhost:8080/",
          "height": 35
        },
        "outputId": "a2e0ae42-ee51-4786-ee24-81b276402286"
      },
      "cell_type": "code",
      "source": [
        "import keras\n",
        "import numpy as np\n",
        "from keras.datasets import mnist\n",
        "import sys"
      ],
      "execution_count": 1,
      "outputs": [
        {
          "output_type": "stream",
          "text": [
            "Using TensorFlow backend.\n"
          ],
          "name": "stderr"
        }
      ]
    },
    {
      "metadata": {
        "id": "lPWXWgNfJYXT",
        "colab_type": "code",
        "colab": {}
      },
      "cell_type": "code",
      "source": [
        "def to_categorical(y,nb_classes):\n",
        "  output = []\n",
        "  for i in y:\n",
        "    temp = np.zeros(nb_classes)\n",
        "    temp[i] = 1\n",
        "    output.append(temp)\n",
        "  output = np.array(output)\n",
        "  output = output.reshape(y.shape[0],nb_classes)\n",
        "  return output"
      ],
      "execution_count": 0,
      "outputs": []
    },
    {
      "metadata": {
        "id": "-rdGsZPDJbv8",
        "colab_type": "code",
        "colab": {}
      },
      "cell_type": "code",
      "source": [
        "def init(dim):\n",
        "  W = np.random.randn(nb_classes,dim)*0.01\n",
        "  b = np.random.randn(nb_classes,1)\n",
        "  return W,b"
      ],
      "execution_count": 0,
      "outputs": []
    },
    {
      "metadata": {
        "id": "gnD73JBiJd_d",
        "colab_type": "code",
        "colab": {}
      },
      "cell_type": "code",
      "source": [
        "def sigmoid(X):\n",
        "    return 1 / (1 + np.exp(-X))"
      ],
      "execution_count": 0,
      "outputs": []
    },
    {
      "metadata": {
        "id": "xXMYwwM_JgT5",
        "colab_type": "code",
        "colab": {}
      },
      "cell_type": "code",
      "source": [
        "def forward_propagate(W,b,x):\n",
        "  linear_transformation = np.dot(W,np.transpose(x)) + (b)\n",
        "  output = sigmoid(linear_transformation)\n",
        "  return output\n"
      ],
      "execution_count": 0,
      "outputs": []
    },
    {
      "metadata": {
        "id": "cfiZ4_PPJkxm",
        "colab_type": "code",
        "colab": {}
      },
      "cell_type": "code",
      "source": [
        "def crossentropy_loss(y_train,output,batch_size):\n",
        "  loss = np.sum(np.multiply(np.transpose(y_train),np.log(output))+np.multiply(np.transpose(y_train),np.log(output)),axis=1,keepdims=True)/batch_size\n",
        "  return loss"
      ],
      "execution_count": 0,
      "outputs": []
    },
    {
      "metadata": {
        "id": "tUTJhcLsJvo9",
        "colab_type": "code",
        "colab": {}
      },
      "cell_type": "code",
      "source": [
        "def backward_propagate(x_train,y_train,output,W,b,learning_rate,batch_size):\n",
        "  m=batch_size\n",
        "  dy = np.sum((output - np.transpose(y_train)), axis = 1, keepdims =True)\n",
        "  ds = sigmoid(output)*(1 - sigmoid(output))\n",
        "  dz = np.multiply(dy,ds)\n",
        "  dW = 1/float(m) * np.dot(dz,x_train)\n",
        "  db = 1/float(m) * np.sum(dz,axis=1,keepdims=True)\n",
        "  W = W - learning_rate*dW\n",
        "  b = b - learning_rate*db\n",
        "  return W,b"
      ],
      "execution_count": 0,
      "outputs": []
    },
    {
      "metadata": {
        "id": "NJcmooUFJybe",
        "colab_type": "code",
        "colab": {}
      },
      "cell_type": "code",
      "source": [
        "def sgd(W,b,x_train,y_train,learning_rate,batch_size,epochs):\n",
        "  for j in range(epochs):\n",
        "    for i in range(0, x_train.shape[0], batch_size):\n",
        "      x_train_mini = x_train[i:i+batch_size]\n",
        "      y_train_mini = y_train[i:i+batch_size]\n",
        "      output = forward_propagate(W,b,x_train_mini)\n",
        "      W,b = backward_propagate(x_train_mini,y_train_mini,output,W,b,learning_rate,batch_size)\n",
        "\n",
        "  return W,b\n"
      ],
      "execution_count": 0,
      "outputs": []
    },
    {
      "metadata": {
        "id": "nP12t1pAJ1Uj",
        "colab_type": "code",
        "colab": {}
      },
      "cell_type": "code",
      "source": [
        "def predict(W, b, X, Y):\n",
        "    m = Y.shape[0]\n",
        "    Y_prediction = forward_propagate(W,b,X)\n",
        "    Y_prediction = Y_prediction.T\n",
        "    outputlist=[]\n",
        "    for i in range(m):\n",
        "        outputlist.append(np.argmax(Y_prediction[i]))\n",
        "    count = 0\n",
        "    for i in range(m):\n",
        "        if outputlist[i] == Y[i]:\n",
        "            count +=1\n",
        "    return count/100"
      ],
      "execution_count": 0,
      "outputs": []
    },
    {
      "metadata": {
        "id": "uS5QEYP3J6rW",
        "colab_type": "code",
        "colab": {}
      },
      "cell_type": "code",
      "source": [
        "learning_rate = 0.005\n",
        "batch_size = 8\n",
        "experiments = 20\n",
        "nb_classes=10"
      ],
      "execution_count": 0,
      "outputs": []
    },
    {
      "metadata": {
        "id": "RtyQ1WhEJ9F2",
        "colab_type": "code",
        "colab": {
          "base_uri": "https://localhost:8080/",
          "height": 35
        },
        "outputId": "afe9bbd0-e00d-47dd-c1b0-7e192c743cf4"
      },
      "cell_type": "code",
      "source": [
        "(x_train, y_train), (x_test, y_test) = mnist.load_data()\n",
        "\n",
        "x_train = x_train.reshape(x_train.shape[0],x_train.shape[1]*x_train.shape[2])\n",
        "x_test = x_test.reshape(x_test.shape[0],x_test.shape[1]*x_test.shape[2])\n",
        "\n",
        "y_actual_testdata = y_test\n",
        "\n",
        "y_train = to_categorical(y_train,nb_classes)\n",
        "y_test = to_categorical(y_test,nb_classes)\n",
        "\n",
        "x_train = x_train.astype('float32')\n",
        "x_test = x_test.astype('float32')\n",
        "\n",
        "\n",
        "x_train /= 255\n",
        "x_test /= 255\n",
        "W,b = init(x_train.shape[1])\n",
        "W,b = sgd(W,b,x_train,y_train,learning_rate,batch_size,experiments)\n",
        "\n",
        "acc = predict(W,b,x_test,y_actual_testdata)\n",
        "print(\"Accuracy: {}\".format(acc))"
      ],
      "execution_count": 11,
      "outputs": [
        {
          "output_type": "stream",
          "text": [
            "Accuracy: 90.11\n"
          ],
          "name": "stdout"
        }
      ]
    }
  ]
}